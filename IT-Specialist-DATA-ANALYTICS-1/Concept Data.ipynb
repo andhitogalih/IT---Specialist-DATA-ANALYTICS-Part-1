{
 "cells": [
  {
   "cell_type": "markdown",
   "id": "d34b4e29-f0b1-4333-aa64-35adbab0376a",
   "metadata": {},
   "source": [
    "# Concept Data\n",
    "Data is a collection of information gathered by observations, measurements, research or analysis. They may consist of facts, numbers, names, figures or even description of things. Data is organized in the form of graphs, charts or tables."
   ]
  },
  {
   "cell_type": "code",
   "execution_count": 1,
   "id": "80655960-afcd-4a3c-8069-8e42878046b3",
   "metadata": {},
   "outputs": [],
   "source": [
    "import pandas as pd\n",
    "import numpy as np"
   ]
  },
  {
   "cell_type": "code",
   "execution_count": 2,
   "id": "1c8e6af1-d0e4-40c6-8012-a1c485966d89",
   "metadata": {},
   "outputs": [],
   "source": [
    "df = pd.read_csv('sephora_website_dataset.csv')"
   ]
  },
  {
   "cell_type": "code",
   "execution_count": 3,
   "id": "c117faa5-d81e-4502-9dee-d753c11a6f69",
   "metadata": {},
   "outputs": [
    {
     "data": {
      "text/html": [
       "<div>\n",
       "<style scoped>\n",
       "    .dataframe tbody tr th:only-of-type {\n",
       "        vertical-align: middle;\n",
       "    }\n",
       "\n",
       "    .dataframe tbody tr th {\n",
       "        vertical-align: top;\n",
       "    }\n",
       "\n",
       "    .dataframe thead th {\n",
       "        text-align: right;\n",
       "    }\n",
       "</style>\n",
       "<table border=\"1\" class=\"dataframe\">\n",
       "  <thead>\n",
       "    <tr style=\"text-align: right;\">\n",
       "      <th></th>\n",
       "      <th>id</th>\n",
       "      <th>brand</th>\n",
       "      <th>category</th>\n",
       "      <th>name</th>\n",
       "      <th>size</th>\n",
       "      <th>rating</th>\n",
       "      <th>number_of_reviews</th>\n",
       "      <th>love</th>\n",
       "      <th>price</th>\n",
       "      <th>value_price</th>\n",
       "      <th>...</th>\n",
       "      <th>MarketingFlags</th>\n",
       "      <th>MarketingFlags_content</th>\n",
       "      <th>options</th>\n",
       "      <th>details</th>\n",
       "      <th>how_to_use</th>\n",
       "      <th>ingredients</th>\n",
       "      <th>online_only</th>\n",
       "      <th>exclusive</th>\n",
       "      <th>limited_edition</th>\n",
       "      <th>limited_time_offer</th>\n",
       "    </tr>\n",
       "  </thead>\n",
       "  <tbody>\n",
       "    <tr>\n",
       "      <th>0</th>\n",
       "      <td>2218774</td>\n",
       "      <td>Acqua Di Parma</td>\n",
       "      <td>Fragrance</td>\n",
       "      <td>Blu Mediterraneo MINIATURE Set</td>\n",
       "      <td>5 x 0.16oz/5mL</td>\n",
       "      <td>4.0</td>\n",
       "      <td>4</td>\n",
       "      <td>3002</td>\n",
       "      <td>66.0</td>\n",
       "      <td>75.0</td>\n",
       "      <td>...</td>\n",
       "      <td>True</td>\n",
       "      <td>online only</td>\n",
       "      <td>no options</td>\n",
       "      <td>This enchanting set comes in a specially handc...</td>\n",
       "      <td>Suggested Usage:-Fragrance is intensified by t...</td>\n",
       "      <td>Arancia di Capri Eau de Toilette: Alcohol Dena...</td>\n",
       "      <td>1</td>\n",
       "      <td>0</td>\n",
       "      <td>0</td>\n",
       "      <td>0</td>\n",
       "    </tr>\n",
       "    <tr>\n",
       "      <th>1</th>\n",
       "      <td>2044816</td>\n",
       "      <td>Acqua Di Parma</td>\n",
       "      <td>Cologne</td>\n",
       "      <td>Colonia</td>\n",
       "      <td>0.7 oz/ 20 mL</td>\n",
       "      <td>4.5</td>\n",
       "      <td>76</td>\n",
       "      <td>2700</td>\n",
       "      <td>66.0</td>\n",
       "      <td>66.0</td>\n",
       "      <td>...</td>\n",
       "      <td>True</td>\n",
       "      <td>online only</td>\n",
       "      <td>- 0.7 oz/ 20 mL  Spray  - 1.7 oz/ 50 mL Eau d...</td>\n",
       "      <td>An elegant timeless scent filled with a fresh-...</td>\n",
       "      <td>no instructions</td>\n",
       "      <td>unknown</td>\n",
       "      <td>1</td>\n",
       "      <td>0</td>\n",
       "      <td>0</td>\n",
       "      <td>0</td>\n",
       "    </tr>\n",
       "    <tr>\n",
       "      <th>2</th>\n",
       "      <td>1417567</td>\n",
       "      <td>Acqua Di Parma</td>\n",
       "      <td>Perfume</td>\n",
       "      <td>Arancia di Capri</td>\n",
       "      <td>5 oz/ 148 mL</td>\n",
       "      <td>4.5</td>\n",
       "      <td>26</td>\n",
       "      <td>2600</td>\n",
       "      <td>180.0</td>\n",
       "      <td>180.0</td>\n",
       "      <td>...</td>\n",
       "      <td>True</td>\n",
       "      <td>online only</td>\n",
       "      <td>- 1oz/30mL Eau de Toilette  - 2.5 oz/ 74 mL E...</td>\n",
       "      <td>Fragrance Family: Fresh Scent Type: Fresh Citr...</td>\n",
       "      <td>no instructions</td>\n",
       "      <td>Alcohol Denat.- Water- Fragrance- Limonene- Li...</td>\n",
       "      <td>1</td>\n",
       "      <td>0</td>\n",
       "      <td>0</td>\n",
       "      <td>0</td>\n",
       "    </tr>\n",
       "    <tr>\n",
       "      <th>3</th>\n",
       "      <td>1417617</td>\n",
       "      <td>Acqua Di Parma</td>\n",
       "      <td>Perfume</td>\n",
       "      <td>Mirto di Panarea</td>\n",
       "      <td>2.5 oz/ 74 mL</td>\n",
       "      <td>4.5</td>\n",
       "      <td>23</td>\n",
       "      <td>2900</td>\n",
       "      <td>120.0</td>\n",
       "      <td>120.0</td>\n",
       "      <td>...</td>\n",
       "      <td>True</td>\n",
       "      <td>online only</td>\n",
       "      <td>- 1 oz/ 30 mL Eau de Toilette Spray - 2.5 oz/...</td>\n",
       "      <td>Panarea near Sicily is an an island suspended ...</td>\n",
       "      <td>no instructions</td>\n",
       "      <td>unknown</td>\n",
       "      <td>1</td>\n",
       "      <td>0</td>\n",
       "      <td>0</td>\n",
       "      <td>0</td>\n",
       "    </tr>\n",
       "    <tr>\n",
       "      <th>4</th>\n",
       "      <td>2218766</td>\n",
       "      <td>Acqua Di Parma</td>\n",
       "      <td>Fragrance</td>\n",
       "      <td>Colonia Miniature Set</td>\n",
       "      <td>5 x 0.16oz/5mL</td>\n",
       "      <td>3.5</td>\n",
       "      <td>2</td>\n",
       "      <td>943</td>\n",
       "      <td>72.0</td>\n",
       "      <td>80.0</td>\n",
       "      <td>...</td>\n",
       "      <td>True</td>\n",
       "      <td>online only</td>\n",
       "      <td>no options</td>\n",
       "      <td>The Colonia Miniature Set comes in an iconic A...</td>\n",
       "      <td>Suggested Usage:-Fragrance is intensified by t...</td>\n",
       "      <td>Colonia: Alcohol Denat.- Water- Fragrance- Lim...</td>\n",
       "      <td>1</td>\n",
       "      <td>0</td>\n",
       "      <td>0</td>\n",
       "      <td>0</td>\n",
       "    </tr>\n",
       "    <tr>\n",
       "      <th>...</th>\n",
       "      <td>...</td>\n",
       "      <td>...</td>\n",
       "      <td>...</td>\n",
       "      <td>...</td>\n",
       "      <td>...</td>\n",
       "      <td>...</td>\n",
       "      <td>...</td>\n",
       "      <td>...</td>\n",
       "      <td>...</td>\n",
       "      <td>...</td>\n",
       "      <td>...</td>\n",
       "      <td>...</td>\n",
       "      <td>...</td>\n",
       "      <td>...</td>\n",
       "      <td>...</td>\n",
       "      <td>...</td>\n",
       "      <td>...</td>\n",
       "      <td>...</td>\n",
       "      <td>...</td>\n",
       "      <td>...</td>\n",
       "      <td>...</td>\n",
       "    </tr>\n",
       "    <tr>\n",
       "      <th>9163</th>\n",
       "      <td>2208502</td>\n",
       "      <td>SEPHORA COLLECTION</td>\n",
       "      <td>Face Masks</td>\n",
       "      <td>The Rose Gold Mask</td>\n",
       "      <td>no size</td>\n",
       "      <td>2.0</td>\n",
       "      <td>15</td>\n",
       "      <td>6200</td>\n",
       "      <td>6.0</td>\n",
       "      <td>6.0</td>\n",
       "      <td>...</td>\n",
       "      <td>True</td>\n",
       "      <td>limited edition · exclusive</td>\n",
       "      <td>no options</td>\n",
       "      <td>What it is: A limited-edition- nurturing and h...</td>\n",
       "      <td>Suggested Usage:-Unfold the mask.-Apply the ma...</td>\n",
       "      <td>-Rose Quartz Extract: Hydrates dry skin.  Aqua...</td>\n",
       "      <td>0</td>\n",
       "      <td>1</td>\n",
       "      <td>1</td>\n",
       "      <td>0</td>\n",
       "    </tr>\n",
       "    <tr>\n",
       "      <th>9164</th>\n",
       "      <td>2298909</td>\n",
       "      <td>SEPHORA COLLECTION</td>\n",
       "      <td>Lip Sets</td>\n",
       "      <td>Give Me Some Sugar Colorful Gloss Balm Set</td>\n",
       "      <td>3 x 0.32 oz/ 9 g</td>\n",
       "      <td>0.0</td>\n",
       "      <td>0</td>\n",
       "      <td>266</td>\n",
       "      <td>15.0</td>\n",
       "      <td>27.0</td>\n",
       "      <td>...</td>\n",
       "      <td>True</td>\n",
       "      <td>exclusive</td>\n",
       "      <td>no options</td>\n",
       "      <td>What it is: A set of three bestselling Colorfu...</td>\n",
       "      <td>Suggested Usage:-Apply directly to lips using ...</td>\n",
       "      <td>Colorful Gloss Balm Wanderlust: Hydrogenated P...</td>\n",
       "      <td>0</td>\n",
       "      <td>1</td>\n",
       "      <td>0</td>\n",
       "      <td>0</td>\n",
       "    </tr>\n",
       "    <tr>\n",
       "      <th>9165</th>\n",
       "      <td>2236750</td>\n",
       "      <td>SEPHORA COLLECTION</td>\n",
       "      <td>Tinted Moisturizer</td>\n",
       "      <td>Weekend Warrior Tone Up Cream</td>\n",
       "      <td>0.946 oz/ 28 mL</td>\n",
       "      <td>0.0</td>\n",
       "      <td>0</td>\n",
       "      <td>445</td>\n",
       "      <td>16.0</td>\n",
       "      <td>16.0</td>\n",
       "      <td>...</td>\n",
       "      <td>True</td>\n",
       "      <td>exclusive</td>\n",
       "      <td>no options</td>\n",
       "      <td>What it is: A weightless complexion booster- i...</td>\n",
       "      <td>Suggested Usage:-Use this product as the last ...</td>\n",
       "      <td>Aqua (Water)- Dimethicone- Isohexadecane- Poly...</td>\n",
       "      <td>0</td>\n",
       "      <td>1</td>\n",
       "      <td>0</td>\n",
       "      <td>0</td>\n",
       "    </tr>\n",
       "    <tr>\n",
       "      <th>9166</th>\n",
       "      <td>50</td>\n",
       "      <td>SEPHORA COLLECTION</td>\n",
       "      <td>no category</td>\n",
       "      <td>Gift Card</td>\n",
       "      <td>no size</td>\n",
       "      <td>5.0</td>\n",
       "      <td>46</td>\n",
       "      <td>0</td>\n",
       "      <td>50.0</td>\n",
       "      <td>50.0</td>\n",
       "      <td>...</td>\n",
       "      <td>False</td>\n",
       "      <td>0</td>\n",
       "      <td>no options</td>\n",
       "      <td>What it is:- Available in denominations of $10...</td>\n",
       "      <td>no instructions</td>\n",
       "      <td>unknown</td>\n",
       "      <td>0</td>\n",
       "      <td>0</td>\n",
       "      <td>0</td>\n",
       "      <td>0</td>\n",
       "    </tr>\n",
       "    <tr>\n",
       "      <th>9167</th>\n",
       "      <td>304</td>\n",
       "      <td>SEPHORA COLLECTION</td>\n",
       "      <td>no category</td>\n",
       "      <td>Happy Birthday Gift Card</td>\n",
       "      <td>no size</td>\n",
       "      <td>0.0</td>\n",
       "      <td>0</td>\n",
       "      <td>0</td>\n",
       "      <td>50.0</td>\n",
       "      <td>50.0</td>\n",
       "      <td>...</td>\n",
       "      <td>False</td>\n",
       "      <td>0</td>\n",
       "      <td>no options</td>\n",
       "      <td>What it is:\\n- Available in denominations of $...</td>\n",
       "      <td>no instructions</td>\n",
       "      <td>unknown</td>\n",
       "      <td>0</td>\n",
       "      <td>0</td>\n",
       "      <td>0</td>\n",
       "      <td>0</td>\n",
       "    </tr>\n",
       "  </tbody>\n",
       "</table>\n",
       "<p>9168 rows × 21 columns</p>\n",
       "</div>"
      ],
      "text/plain": [
       "           id               brand            category  \\\n",
       "0     2218774      Acqua Di Parma           Fragrance   \n",
       "1     2044816      Acqua Di Parma             Cologne   \n",
       "2     1417567      Acqua Di Parma             Perfume   \n",
       "3     1417617      Acqua Di Parma             Perfume   \n",
       "4     2218766      Acqua Di Parma           Fragrance   \n",
       "...       ...                 ...                 ...   \n",
       "9163  2208502  SEPHORA COLLECTION          Face Masks   \n",
       "9164  2298909  SEPHORA COLLECTION            Lip Sets   \n",
       "9165  2236750  SEPHORA COLLECTION  Tinted Moisturizer   \n",
       "9166       50  SEPHORA COLLECTION         no category   \n",
       "9167      304  SEPHORA COLLECTION         no category   \n",
       "\n",
       "                                            name              size  rating  \\\n",
       "0                 Blu Mediterraneo MINIATURE Set    5 x 0.16oz/5mL     4.0   \n",
       "1                                        Colonia     0.7 oz/ 20 mL     4.5   \n",
       "2                               Arancia di Capri      5 oz/ 148 mL     4.5   \n",
       "3                               Mirto di Panarea     2.5 oz/ 74 mL     4.5   \n",
       "4                          Colonia Miniature Set    5 x 0.16oz/5mL     3.5   \n",
       "...                                          ...               ...     ...   \n",
       "9163                          The Rose Gold Mask           no size     2.0   \n",
       "9164  Give Me Some Sugar Colorful Gloss Balm Set  3 x 0.32 oz/ 9 g     0.0   \n",
       "9165               Weekend Warrior Tone Up Cream   0.946 oz/ 28 mL     0.0   \n",
       "9166                                   Gift Card           no size     5.0   \n",
       "9167                    Happy Birthday Gift Card           no size     0.0   \n",
       "\n",
       "      number_of_reviews  love  price  value_price  ... MarketingFlags  \\\n",
       "0                     4  3002   66.0         75.0  ...           True   \n",
       "1                    76  2700   66.0         66.0  ...           True   \n",
       "2                    26  2600  180.0        180.0  ...           True   \n",
       "3                    23  2900  120.0        120.0  ...           True   \n",
       "4                     2   943   72.0         80.0  ...           True   \n",
       "...                 ...   ...    ...          ...  ...            ...   \n",
       "9163                 15  6200    6.0          6.0  ...           True   \n",
       "9164                  0   266   15.0         27.0  ...           True   \n",
       "9165                  0   445   16.0         16.0  ...           True   \n",
       "9166                 46     0   50.0         50.0  ...          False   \n",
       "9167                  0     0   50.0         50.0  ...          False   \n",
       "\n",
       "           MarketingFlags_content  \\\n",
       "0                     online only   \n",
       "1                     online only   \n",
       "2                     online only   \n",
       "3                     online only   \n",
       "4                     online only   \n",
       "...                           ...   \n",
       "9163  limited edition · exclusive   \n",
       "9164                    exclusive   \n",
       "9165                    exclusive   \n",
       "9166                            0   \n",
       "9167                            0   \n",
       "\n",
       "                                                options  \\\n",
       "0                                            no options   \n",
       "1      - 0.7 oz/ 20 mL  Spray  - 1.7 oz/ 50 mL Eau d...   \n",
       "2      - 1oz/30mL Eau de Toilette  - 2.5 oz/ 74 mL E...   \n",
       "3      - 1 oz/ 30 mL Eau de Toilette Spray - 2.5 oz/...   \n",
       "4                                            no options   \n",
       "...                                                 ...   \n",
       "9163                                         no options   \n",
       "9164                                         no options   \n",
       "9165                                         no options   \n",
       "9166                                         no options   \n",
       "9167                                         no options   \n",
       "\n",
       "                                                details  \\\n",
       "0     This enchanting set comes in a specially handc...   \n",
       "1     An elegant timeless scent filled with a fresh-...   \n",
       "2     Fragrance Family: Fresh Scent Type: Fresh Citr...   \n",
       "3     Panarea near Sicily is an an island suspended ...   \n",
       "4     The Colonia Miniature Set comes in an iconic A...   \n",
       "...                                                 ...   \n",
       "9163  What it is: A limited-edition- nurturing and h...   \n",
       "9164  What it is: A set of three bestselling Colorfu...   \n",
       "9165  What it is: A weightless complexion booster- i...   \n",
       "9166  What it is:- Available in denominations of $10...   \n",
       "9167  What it is:\\n- Available in denominations of $...   \n",
       "\n",
       "                                             how_to_use  \\\n",
       "0     Suggested Usage:-Fragrance is intensified by t...   \n",
       "1                                       no instructions   \n",
       "2                                       no instructions   \n",
       "3                                       no instructions   \n",
       "4     Suggested Usage:-Fragrance is intensified by t...   \n",
       "...                                                 ...   \n",
       "9163  Suggested Usage:-Unfold the mask.-Apply the ma...   \n",
       "9164  Suggested Usage:-Apply directly to lips using ...   \n",
       "9165  Suggested Usage:-Use this product as the last ...   \n",
       "9166                                    no instructions   \n",
       "9167                                    no instructions   \n",
       "\n",
       "                                            ingredients online_only  \\\n",
       "0     Arancia di Capri Eau de Toilette: Alcohol Dena...           1   \n",
       "1                                               unknown           1   \n",
       "2     Alcohol Denat.- Water- Fragrance- Limonene- Li...           1   \n",
       "3                                               unknown           1   \n",
       "4     Colonia: Alcohol Denat.- Water- Fragrance- Lim...           1   \n",
       "...                                                 ...         ...   \n",
       "9163  -Rose Quartz Extract: Hydrates dry skin.  Aqua...           0   \n",
       "9164  Colorful Gloss Balm Wanderlust: Hydrogenated P...           0   \n",
       "9165  Aqua (Water)- Dimethicone- Isohexadecane- Poly...           0   \n",
       "9166                                            unknown           0   \n",
       "9167                                            unknown           0   \n",
       "\n",
       "      exclusive  limited_edition  limited_time_offer  \n",
       "0             0                0                   0  \n",
       "1             0                0                   0  \n",
       "2             0                0                   0  \n",
       "3             0                0                   0  \n",
       "4             0                0                   0  \n",
       "...         ...              ...                 ...  \n",
       "9163          1                1                   0  \n",
       "9164          1                0                   0  \n",
       "9165          1                0                   0  \n",
       "9166          0                0                   0  \n",
       "9167          0                0                   0  \n",
       "\n",
       "[9168 rows x 21 columns]"
      ]
     },
     "metadata": {},
     "output_type": "display_data"
    }
   ],
   "source": [
    "display(df)"
   ]
  },
  {
   "cell_type": "markdown",
   "id": "e873476a-7e05-4642-8b30-4b8ce0fe8534",
   "metadata": {},
   "source": [
    "## DATA CATEGORICAL\n",
    "In Python, categorical data refers to a type of data that represents categories or groups. Categorical data can be either nominal or ordinal, where nominal data represents categories without any inherent order, while ordinal data represents categories with a meaningful order or hierarchy."
   ]
  },
  {
   "cell_type": "markdown",
   "id": "c6249c13-490b-4ef3-8243-59bb167032e5",
   "metadata": {},
   "source": [
    "### Nominal\n",
    "In Python, nominal data refers to categorical data where the categories do not have an inherent order or ranking. Nominal data represents distinct categories or groups without any numerical significance."
   ]
  },
  {
   "cell_type": "code",
   "execution_count": 4,
   "id": "377ffdd0-d569-472b-825c-ef2309c27732",
   "metadata": {},
   "outputs": [],
   "source": [
    "category = df['category']"
   ]
  },
  {
   "cell_type": "code",
   "execution_count": 5,
   "id": "bb111466-61fb-4d37-bbc8-057078bf8cbf",
   "metadata": {},
   "outputs": [
    {
     "data": {
      "text/plain": [
       "0                Fragrance\n",
       "1                  Cologne\n",
       "2                  Perfume\n",
       "3                  Perfume\n",
       "4                Fragrance\n",
       "               ...        \n",
       "9163            Face Masks\n",
       "9164              Lip Sets\n",
       "9165    Tinted Moisturizer\n",
       "9166           no category\n",
       "9167           no category\n",
       "Name: category, Length: 9168, dtype: object"
      ]
     },
     "execution_count": 5,
     "metadata": {},
     "output_type": "execute_result"
    }
   ],
   "source": [
    "category"
   ]
  },
  {
   "cell_type": "markdown",
   "id": "c941a56a-9568-4e9f-9aa9-5fc65764fb10",
   "metadata": {},
   "source": [
    "### Ordinal\n",
    "In Python, ordinal data refers to categorical data where the categories have a natural order or ranking associated with them. Unlike nominal data, the categories in ordinal data have a meaningful sequence or hierarchy."
   ]
  },
  {
   "cell_type": "code",
   "execution_count": 6,
   "id": "e006ba13-a686-4f66-ac43-08eff5703777",
   "metadata": {},
   "outputs": [],
   "source": [
    "rating = df['rating']"
   ]
  },
  {
   "cell_type": "code",
   "execution_count": 7,
   "id": "8c87a811-86bf-462e-9c0d-266650b7d9b6",
   "metadata": {},
   "outputs": [
    {
     "data": {
      "text/plain": [
       "0       4.0\n",
       "1       4.5\n",
       "2       4.5\n",
       "3       4.5\n",
       "4       3.5\n",
       "       ... \n",
       "9163    2.0\n",
       "9164    0.0\n",
       "9165    0.0\n",
       "9166    5.0\n",
       "9167    0.0\n",
       "Name: rating, Length: 9168, dtype: float64"
      ]
     },
     "execution_count": 7,
     "metadata": {},
     "output_type": "execute_result"
    }
   ],
   "source": [
    "rating"
   ]
  },
  {
   "cell_type": "markdown",
   "id": "2fa66a7e-5395-4f51-9b08-170a7a14fede",
   "metadata": {},
   "source": [
    "## DATA NUMERICAL\n",
    "In Python, numerical data refers to data that consists of numbers and can be represented using numeric types such as integers or floating-point numbers. Numerical data is used to quantify variables and perform mathematical operations."
   ]
  },
  {
   "cell_type": "markdown",
   "id": "9bae9411-1c9c-46be-ab82-56f957e472ca",
   "metadata": {},
   "source": [
    "### Discrete\n",
    "In Python, \"diskrit\" (discrete) data refers to data that consists of distinct and separate values, typically integers, with no values in between. Discrete data often represents counts or whole numbers, and it cannot take on any value within a range."
   ]
  },
  {
   "cell_type": "code",
   "execution_count": 8,
   "id": "7e1f77ed-999c-49e9-aae2-f38a4ad1ac26",
   "metadata": {},
   "outputs": [],
   "source": [
    "number_of_reviews = df['number_of_reviews']"
   ]
  },
  {
   "cell_type": "code",
   "execution_count": 9,
   "id": "91d462da-6435-4d7f-a18b-7371ef72caab",
   "metadata": {},
   "outputs": [
    {
     "data": {
      "text/plain": [
       "0        4\n",
       "1       76\n",
       "2       26\n",
       "3       23\n",
       "4        2\n",
       "        ..\n",
       "9163    15\n",
       "9164     0\n",
       "9165     0\n",
       "9166    46\n",
       "9167     0\n",
       "Name: number_of_reviews, Length: 9168, dtype: int64"
      ]
     },
     "execution_count": 9,
     "metadata": {},
     "output_type": "execute_result"
    }
   ],
   "source": [
    "number_of_reviews"
   ]
  },
  {
   "cell_type": "markdown",
   "id": "8dae63fc-1364-4b17-8730-e3dee49a94cc",
   "metadata": {},
   "source": [
    "### Continuous\n",
    "In Python, \"kontinue\" (continuous) data refers to data that can take on any value within a given range. Continuous data is typically represented by real numbers and can include fractions or decimals. Unlike discrete data, continuous data can have an infinite number of possible values between any two points."
   ]
  },
  {
   "cell_type": "code",
   "execution_count": 10,
   "id": "c81894a7-371b-40df-918d-30b291182e61",
   "metadata": {},
   "outputs": [],
   "source": [
    "value_price = df ['value_price']"
   ]
  },
  {
   "cell_type": "code",
   "execution_count": 11,
   "id": "18a5ea25-e8c5-4240-be49-d023e30f98c1",
   "metadata": {},
   "outputs": [
    {
     "data": {
      "text/plain": [
       "0        75.0\n",
       "1        66.0\n",
       "2       180.0\n",
       "3       120.0\n",
       "4        80.0\n",
       "        ...  \n",
       "9163      6.0\n",
       "9164     27.0\n",
       "9165     16.0\n",
       "9166     50.0\n",
       "9167     50.0\n",
       "Name: value_price, Length: 9168, dtype: float64"
      ]
     },
     "execution_count": 11,
     "metadata": {},
     "output_type": "execute_result"
    }
   ],
   "source": [
    "value_price"
   ]
  },
  {
   "cell_type": "markdown",
   "id": "eb2d3c80-1133-4c45-bcf8-0b852aaab21c",
   "metadata": {},
   "source": [
    "## Boolean\n",
    "In Python, a boolean refers to a data type that can have one of two values: True or False. Booleans are used to represent logical states and are fundamental for controlling the flow of programs through conditional statements and boolean operations."
   ]
  },
  {
   "cell_type": "code",
   "execution_count": 12,
   "id": "4c143189-3b4a-49a1-879d-fdb6701a309d",
   "metadata": {},
   "outputs": [],
   "source": [
    "MarketingFlags = df ['MarketingFlags']"
   ]
  },
  {
   "cell_type": "code",
   "execution_count": 13,
   "id": "791d43dc-f1bd-4dae-867d-14dea668ad70",
   "metadata": {},
   "outputs": [
    {
     "data": {
      "text/plain": [
       "0        True\n",
       "1        True\n",
       "2        True\n",
       "3        True\n",
       "4        True\n",
       "        ...  \n",
       "9163     True\n",
       "9164     True\n",
       "9165     True\n",
       "9166    False\n",
       "9167    False\n",
       "Name: MarketingFlags, Length: 9168, dtype: bool"
      ]
     },
     "execution_count": 13,
     "metadata": {},
     "output_type": "execute_result"
    }
   ],
   "source": [
    "MarketingFlags "
   ]
  },
  {
   "cell_type": "markdown",
   "id": "af993e91-39cc-41aa-8876-a3c014fb551a",
   "metadata": {},
   "source": [
    "## Meta Data "
   ]
  },
  {
   "cell_type": "markdown",
   "id": "4c95a46e-1e72-4928-80ca-f967839963d3",
   "metadata": {},
   "source": [
    "\"Metadata\" is information that provides context or description about a particular piece of data. It can include descriptions of the data structure, data source, or information about how the data is generated or used. Metadata aids in understanding and managing data by providing additional information about the data itself.\n",
    "\n",
    "For example, metadata for a music file might include the song title, artist name, album, release year, and music genre. For a database, metadata could include table names, column names, data types, and primary keys. Metadata is also used in the context of big data to provide information about the origin, size, structure, and characteristics of large and complex data."
   ]
  },
  {
   "cell_type": "markdown",
   "id": "b83d9c3d-5a6a-4ea5-a959-779740795607",
   "metadata": {},
   "source": [
    "## Big Data"
   ]
  },
  {
   "cell_type": "markdown",
   "id": "c8b11c25-0cc9-4cf6-a5d6-092e24d5ef58",
   "metadata": {},
   "source": [
    "\"big data\" refers to large and complex data sets that are difficult to manage, process, and analyze using traditional data processing methods. Big data often exhibits three main characteristics known as the \"3V\": volume (large), velocity (fast), and variety (diverse). This means data that is large in volume, arrives at high speed, and comes in various types and formats."
   ]
  }
 ],
 "metadata": {
  "kernelspec": {
   "display_name": "Python 3 (ipykernel)",
   "language": "python",
   "name": "python3"
  },
  "language_info": {
   "codemirror_mode": {
    "name": "ipython",
    "version": 3
   },
   "file_extension": ".py",
   "mimetype": "text/x-python",
   "name": "python",
   "nbconvert_exporter": "python",
   "pygments_lexer": "ipython3",
   "version": "3.11.7"
  }
 },
 "nbformat": 4,
 "nbformat_minor": 5
}
